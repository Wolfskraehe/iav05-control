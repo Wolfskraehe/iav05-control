{
 "cells": [
  {
   "cell_type": "markdown",
   "metadata": {},
   "source": [
    "# Control Project\n",
    "\n",
    "The aim of this project is to design and implement a PID controller that effectively tracks a vehicle's trajectory in a simulation environment. The trajectory is represented as an array of locations, and the controller will be integrated with the CARLA simulator.\n"
   ]
  },
  {
   "cell_type": "markdown",
   "metadata": {},
   "source": [
    "### Project Members and Contribution\n",
    "\n",
    "| Name | Marticulation Number | Contribution |\n",
    "| --- | --- | --- |\n",
    "| Jenish Thapa | k12137169 |  |\n",
    "| Prasil Adhikari | k12049801 | |\n",
    "| Christoph Domberger | k51849497 |  |\n",
    "| Ukleja Sebastian | k0512011 | |\n",
    "\n",
    "@guys: ToDos we have to split in the contributions:\n",
    "- Build the PID controller object\n",
    "- PID controller for throttle\n",
    "- PID controller for steer\n",
    "- Evaluate the PID efficiency"
   ]
  },
  {
   "cell_type": "markdown",
   "metadata": {},
   "source": [
    "## Set up\n",
    "\n",
    "### Repository Setup\n",
    "\n",
    "1. Install the requirements from requirements.txt file better to install it in a conda environment\n",
    "\n",
    "    <code>pip install -r requirements.txt</code>\n",
    "\n",
    "### CARLA Setup\n",
    "\n",
    "1. Download the simulator [CARLA 0.9.10](https://carla-releases.s3.eu-west-3.amazonaws.com/Windows/CARLA_0.9.10.zip)\n",
    "2. Decompress the file in a directory of your preference.\n",
    "3. Enter the decompressed folder, open a new terminal and type:\n",
    "\n",
    "    <code>.\\CarlaUE4.exe -quality-level=Low </code>\n",
    "\n",
    "### Running the project\n",
    "\n",
    "1. Run the CARLA simulator on [**Low Level quality**](#carla-setup).\n",
    "2. Navigate to the Project folder and activate conda environment if you have created one.\n",
    "3. Run python script SimulatorAPI.py"
   ]
  },
  {
   "cell_type": "markdown",
   "metadata": {},
   "source": [
    "## Controllers\n",
    "\n",
    "Control is a process of influencing or manipulating the behavior of a system to achieve a desired outcome. In the context of this project, control refers to regulating the steering input of a vehicle to track a specified trajectory accurately.\n",
    "\n",
    "PID (Proportional-Integral-Derivative) controllers are widely used in control systems to achieve stability and responsiveness. They combine three control actions to minimize the error between the desired setpoint and the system's actual output.\n",
    "\n",
    "### Proportional Control (P)\n",
    "\n",
    "Proportional control is based on the principle that the control action is proportional to the current error. The error is the difference between the desired value and the actual value. For autonomous vehicles, the error can represent parameters such as position, velocity, or orientation. The proportional control component calculates an output based on the error and a proportional gain constant. The output is directly proportional to the error, a higher gain constant results in a stronger reaction to the error. Because of this high gain can lead to unstable behaviour. Represnts the error control oft current/intermediate errors.\n",
    "\n",
    "### Integral Control (I)\n",
    "\n",
    "Integral control takes into account the accumulation of past errors. It calculates the integral of the error and multiplies it by a gain constant. Calculating the integral is useful because it includes the past errors, which proportional control can't take into account. It continuously adjusts the control output based on the accumulated error, which helps to eliminate any bias in the system. It represents the error control with respect to past data and errors.\n",
    "\n",
    "### Derivative Control (D)\n",
    "\n",
    "Derivative control takes possible future errors into account. It calculates the derivative of the error and multiplies it again by a gain constant. This results in a dampening effect on future fluctuations in the error. It anticipates the future error trend based on the current rate of change, enabling the system to react quickly to changes in the error. This part of PID control helps to prevent overshooting the goal and reduces instability. Represents the error control with respect to future errors.\n",
    "\n",
    "### Code Explanation (PIDController.py)\n",
    "\n",
    "The __init__ method initializes the controller with the specified gains (Kp, Ki, Kd) and output limits. The get_control_command method calculates the control command based on the current error and the time difference (dt) since the last control command.\n",
    "\n",
    "The get_control_command function first calculates the derivative term by computing the difference between the current error and the previous error divided by the time difference (dt). The integral term is obtained by accumulating the errors over time (error * dt). The control command is then calculated as the sum of the proportional, integral, and derivative terms, multiplied by their respective gains (Kp, Ki, Kd).\n",
    "\n",
    "To prevent the control command from exceeding the specified output limits (output_max, output_min), the command is capped within this range.\n",
    "\n",
    "### Code Explanation (SimulatorAPI.py)\n",
    "\n",
    "Controller Initialization:\n",
    "The code begins by creating the PID controller objects for throttle and steering control. The throttle controller is initialized with specific Parameters(throttle_Kp, throttle_Ki, throttle_Kd) and output limits (throttle_output_min, throttle_output_max). Similarly, the steering controller is initialized with Parameters (steer_Kp, steer_Ki, steer_Kd) and output limits (steer_output_min, steer_output_max). These values determine the behavior and response of each controller and we had to choose them in a way, that the vehicle does not crash. More about this in the Tuning section below.\n",
    "\n",
    "Steering Control:\n",
    "The code then calculates the steering error by comparing the desired heading (obtained from the desired trajectory) and the current yaw (vehicle's orientation). This error represents the deviation from the desired heading. The steering error is used as an input to the steering controller's get_control_command method, which calculates the appropriate control command based on the error and the time difference (dt) since the last control command.\n",
    "\n",
    "Throttle Control:\n",
    "Next, the code calculates the throttle error by comparing the desired speed (obtained from the desired velocity trajectory) and the current velocity of the vehicle. The throttle error represents the deviation from the desired speed. The throttle error is then passed to the throttle controller's get_control_command method, which computes the control command for throttle based on the error and dt.\n",
    "\n",
    "Throttle and Brake Commands:\n",
    "Based on the calculated throttle command, the code determines the throttle and brake commands. If the throttle command is positive (indicating the need for acceleration), the throttle command is assigned to throttle_command, and the brake command is set to 0.0. Otherwise, if the throttle command is negative (indicating the need for deceleration), the throttle command is set to 0.0, and the absolute value of the throttle command is assigned to brake_command."
   ]
  },
  {
   "cell_type": "markdown",
   "metadata": {},
   "source": [
    "### Tuning\n",
    "\n",
    "In the lecture we that popular methods are the Ziegler-Nichols method, the Cohen-Coon method, and the trial-and-error method. Our process of finding parameters such that the car does not crash and the analysis throws reasonable results was in general just trial-and-error and we tried to follow the following scheme which was proposed in the lecture:\n",
    "\n",
    "1. Set all gains to zero:\n",
    "\n",
    "2. Increase the Proportional gain (Kp) until steady oscillation:\n",
    "The Proportional gain was gradually increased while observing the response of the system. The objective was to achieve steady oscillation in the system's response to a disturbance.\n",
    "\n",
    "3. Increase the Derivative gain (Kd) until oscillations go away:\n",
    "The Derivative gain was then increased to dampen the oscillations observed in the system's response. The Derivative gain acts on the rate of change of the error and helps in reducing overshooting and oscillatory behavior.\n",
    "\n",
    "4. Repeat steps 2 and 3 until oscillations are minimized:\n",
    "\n",
    "5. Set Integral gain (Ki) to a fraction of the Proportional gain:\n",
    "The Integral gain was then introduced to eliminate any steady-state error.\n",
    "\n",
    "6. Increase the Integral gain to minimize steady-state error:\n",
    "The Integral gain was gradually increased to reduce the steady-state error."
   ]
  },
  {
   "cell_type": "markdown",
   "metadata": {},
   "source": [
    "## Analysis\n",
    "\n",
    "We opted for trial and error procedure to tune the PID parameters of controllers. We use the simulation video and plots to tweak our paramters until we get a satisfactory result.\n",
    "\n",
    "As in the general outline of trial and error procedure.We started first tuning with a small positive value for all throttle and steer controllers parameters.\n",
    "\n",
    "Then we start with tuning throttle and steer Kp and KI, high values of throttle KP and even lower values of  throttle KI of  easily lead to collison. \n",
    "\n",
    "So, we opted for small values of KP and very low positive values of KI for throttle controller.\n",
    "\n",
    "As the throttle is really low, we then increased our steer controller parameters KP and KI, this lead us to a collision free simulation but there were too much fluctuations for both steering and throttle command values.\n",
    "\n",
    "Then we start increasing KD to get rid of fluctuations especially in the steering control. \n",
    "\n",
    "A low positive value on KD parameter of throttle and a positive increease in KD of steering control gave us a collision free simulation and smooth  graphs for both heading and velocity."
   ]
  }
 ],
 "metadata": {
  "kernelspec": {
   "display_name": "Python 3 (ipykernel)",
   "language": "python",
   "name": "python3"
  },
  "language_info": {
   "codemirror_mode": {
    "name": "ipython",
    "version": 3
   },
   "file_extension": ".py",
   "mimetype": "text/x-python",
   "name": "python",
   "nbconvert_exporter": "python",
   "pygments_lexer": "ipython3",
   "version": "3.8.3"
  }
 },
 "nbformat": 4,
 "nbformat_minor": 2
}
