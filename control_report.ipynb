{
 "cells": [
  {
   "attachments": {},
   "cell_type": "markdown",
   "metadata": {},
   "source": [
    "# Control\n",
    "\n",
    "TODO"
   ]
  },
  {
   "attachments": {},
   "cell_type": "markdown",
   "metadata": {},
   "source": [
    "## PID\n",
    "\n",
    "TODO\n",
    "\n",
    "## Proportional\n",
    "\n",
    "Proportional control is based on the principle that the control action is proportional to the current error. The error is the difference between the desired value and the actual value. For autonomous vehicles, the error can represent parameters such as position, velocity, or orientation. The proportional control component calculates an output based on the error and a proportional gain constant. The output is directly proportional to the error, a higher gain constant results in a stronger reaction to the error. Because of this high gain can lead to unstable behaviour. Represnts the error control oft current/intermediate errors.\n",
    "\n",
    "## Integral\n",
    "\n",
    "Integral control takes into account the accumulation of past errors. It calculates the integral of the error and multiplies it by a gain constant. Calculating the integral is useful because it includes the past errors, which proportional control can't take into account. It continuously adjusts the control output based on the accumulated error, which helps to eliminate any bias in the system. It represents the error control with respect to past data and errors.\n",
    "\n",
    "## Derivative\n",
    "\n",
    "Derivative control takes possible future errors into account. It calculates the derivative of the error and multiplies it again by a gain constant. This results in a dampening effect on future fluctuations in the error. It anticipates the future error trend based on the current rate of change, enabling the system to react quickly to changes in the error. This part of PID control helps to prevent overshooting the goal and reduces instability. Represents the error control with respect to future errors."
   ]
  },
  {
   "attachments": {},
   "cell_type": "markdown",
   "metadata": {},
   "source": [
    "## Code Explanation\n",
    "\n",
    "TODO"
   ]
  },
  {
   "attachments": {},
   "cell_type": "markdown",
   "metadata": {},
   "source": [
    "## Tuning\n",
    "\n",
    "Tuning the gain parameter is usually done iteratively and was also done in this case. To achieve this the integral and derivative gains are set to zero and the proportional gain is increased till oscilations occur. After that the integral and derivative gains are slowly increased to decrease the oscilations and improve the behaviour of the agent.\n",
    "\n",
    "TODO Further explanations for the process"
   ]
  }
 ],
 "metadata": {
  "language_info": {
   "name": "python"
  },
  "orig_nbformat": 4
 },
 "nbformat": 4,
 "nbformat_minor": 2
}
